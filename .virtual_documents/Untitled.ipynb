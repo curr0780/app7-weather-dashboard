import pandas as pd
df = pd.read_csv("happy.csv")
df


x_data = df['gdp']
y_data = df['happiness']


x_data


y_data



